{
 "cells": [
  {
   "cell_type": "code",
   "execution_count": 1,
   "metadata": {},
   "outputs": [
    {
     "name": "stdout",
     "output_type": "stream",
     "text": [
      "Populating the interactive namespace from numpy and matplotlib\n"
     ]
    }
   ],
   "source": [
    "%pylab inline\n",
    "%load_ext autoreload\n",
    "%autoreload 2"
   ]
  },
  {
   "cell_type": "code",
   "execution_count": 9,
   "metadata": {},
   "outputs": [],
   "source": [
    "import sys\n",
    "sys.path.append('../')"
   ]
  },
  {
   "cell_type": "code",
   "execution_count": 3,
   "metadata": {},
   "outputs": [],
   "source": [
    "import nets.cornet.cornet_r as CR\n",
    "import nets.cornet.cornet_s as CS\n",
    "import nets.cornet.cornet_z as CZ\n",
    "\n",
    "\n",
    "import nets.cornet.cornet_z_regression as CZR\n",
    "import nets.cornet.cornet_s_regression as CSR"
   ]
  },
  {
   "cell_type": "code",
   "execution_count": 7,
   "metadata": {},
   "outputs": [],
   "source": [
    "import torch\n",
    "from skorch import NeuralNetClassifier\n",
    "from skorch import NeuralNetRegressor\n",
    "from skorch.helper import predefined_split\n",
    "from skorch.dataset import Dataset\n",
    "\n",
    "from sklearn.datasets import fetch_openml\n",
    "from sklearn.model_selection import train_test_split\n",
    "\n",
    "\n",
    "import sklearn.metrics"
   ]
  },
  {
   "cell_type": "code",
   "execution_count": 13,
   "metadata": {},
   "outputs": [],
   "source": [
    "sys.path.append('../external/perception/EXP/')\n",
    "sys.path.append('../external/perception/EXP/ClevelandMcGill/')\n",
    "import figure1"
   ]
  },
  {
   "cell_type": "code",
   "execution_count": 28,
   "metadata": {},
   "outputs": [
    {
     "name": "stdout",
     "output_type": "stream",
     "text": [
      "Training Parameters 2400\n",
      "Testing Parameters 3600\n"
     ]
    }
   ],
   "source": [
    "DATATYPE = figure1.Figure1.length\n",
    "\n",
    "#\n",
    "# DATA\n",
    "#\n",
    "train_target = 60000\n",
    "val_target = 20000\n",
    "test_target = 20000\n",
    "\n",
    "# get global min and max\n",
    "global_min = np.inf\n",
    "global_max = -np.inf\n",
    "for N in range(train_target+val_target+test_target):\n",
    "\n",
    "    sparse, image, label, parameters = figure1.Figure1.length()\n",
    "\n",
    "    global_min = min(label, global_min)\n",
    "    global_max = max(label, global_max)\n",
    "# end of global min max\n",
    "\n",
    "# get the range and shuffle it.. just not the min and max since this will always be training data\n",
    "labels_without_first_and_last = list(range(global_min+1, global_max))\n",
    "label_count = len(labels_without_first_and_last)+2\n",
    "np.random.shuffle(labels_without_first_and_last)\n",
    "\n",
    "# assign target labels to train, val, and test data\n",
    "train_target_labels = [global_min, global_max]\n",
    "val_target_labels = []\n",
    "test_target_labels = []\n",
    "\n",
    "for i in range(int(label_count*.6) - 2):\n",
    "    train_target_labels.append(labels_without_first_and_last.pop())\n",
    "    \n",
    "for i in range(int(label_count*.2)):\n",
    "    val_target_labels.append(labels_without_first_and_last.pop())\n",
    "    \n",
    "for i in range(int(label_count*.2)):\n",
    "    test_target_labels.append(labels_without_first_and_last.pop())\n",
    "\n",
    "# make sure all 3 groups are unique\n",
    "assert len(np.intersect1d(train_target_labels, val_target_labels)) == 0\n",
    "assert len(np.intersect1d(train_target_labels, test_target_labels)) == 0\n",
    "assert len(np.intersect1d(test_target_labels, val_target_labels)) == 0\n",
    "\n",
    "#\n",
    "# fill in the data\n",
    "#\n",
    "X_train = np.zeros((train_target, 100, 100), dtype=np.bool)\n",
    "y_train = np.zeros((train_target), dtype=np.float32)\n",
    "train_counter = 0\n",
    "\n",
    "X_val = np.zeros((val_target, 100, 100), dtype=np.bool)\n",
    "y_val = np.zeros((val_target), dtype=np.float32)\n",
    "val_counter = 0\n",
    "\n",
    "X_test = np.zeros((test_target, 100, 100), dtype=np.bool)\n",
    "y_test = np.zeros((test_target), dtype=np.float32)\n",
    "test_counter = 0\n",
    "\n",
    "FLAGS = [True,False,False]\n",
    "while train_counter < train_target:\n",
    "    \n",
    "    sparse, image, label, parameters = DATATYPE(FLAGS, preset=np.random.choice(train_target_labels))\n",
    "    X_train[train_counter] = image\n",
    "    y_train[train_counter] = label\n",
    "    train_counter += 1\n",
    "    \n",
    "print('Training Parameters', parameters)\n",
    "    \n",
    "FLAGS = [True,False,False]\n",
    "while val_counter < val_target:\n",
    "    \n",
    "    sparse, image, label, parameters = DATATYPE(FLAGS, preset=np.random.choice(val_target_labels))\n",
    "    X_val[val_counter] = image\n",
    "    y_val[val_counter] = label\n",
    "    val_counter += 1\n",
    "    \n",
    "FLAGS = [False,True,False]\n",
    "while test_counter < test_target:\n",
    "    \n",
    "    sparse, image, label, parameters = DATATYPE(FLAGS, preset=np.random.choice(test_target_labels))\n",
    "    X_test[test_counter] = image\n",
    "    y_test[test_counter] = label\n",
    "    test_counter += 1\n",
    "    \n",
    "print('Testing Parameters', parameters)\n"
   ]
  },
  {
   "cell_type": "code",
   "execution_count": 29,
   "metadata": {},
   "outputs": [],
   "source": [
    "#\n",
    "#\n",
    "# NORMALIZE DATA IN-PLACE (BUT SEPERATELY)\n",
    "#\n",
    "#\n",
    "X_train = X_train.astype(np.float32)\n",
    "X_val = X_val.astype(np.float32)\n",
    "X_test = X_test.astype(np.float32)\n",
    "\n",
    "X_min = X_train.min()\n",
    "X_max = X_train.max()\n",
    "y_min = y_train.min()\n",
    "y_max = y_train.max()\n",
    "\n",
    "# scale in place\n",
    "X_train -= X_min\n",
    "X_train /= (X_max - X_min)\n",
    "y_train -= y_min\n",
    "y_train /= (y_max - y_min)\n",
    "\n",
    "X_val -= X_min\n",
    "X_val /= (X_max - X_min)\n",
    "y_val -= y_min\n",
    "y_val /= (y_max - y_min)\n",
    "\n",
    "X_test -= X_min\n",
    "X_test /= (X_max - X_min)\n",
    "y_test -= y_min\n",
    "y_test /= (y_max - y_min)\n",
    "\n",
    "# normalize to -.5 .. .5\n",
    "X_train -= .5\n",
    "X_val -= .5\n",
    "X_test -= .5\n"
   ]
  },
  {
   "cell_type": "code",
   "execution_count": 30,
   "metadata": {},
   "outputs": [
    {
     "data": {
      "text/plain": [
       "<matplotlib.image.AxesImage at 0x2b41227ad3c8>"
      ]
     },
     "execution_count": 30,
     "metadata": {},
     "output_type": "execute_result"
    },
    {
     "data": {
      "image/png": "[encoded data removed]",
      "text/plain": [
       "<Figure size 432x288 with 1 Axes>"
      ]
     },
     "metadata": {
      "needs_background": "light"
     },
     "output_type": "display_data"
    }
   ],
   "source": [
    "imshow(X_train[2314])"
   ]
  },
  {
   "cell_type": "code",
   "execution_count": 31,
   "metadata": {},
   "outputs": [
    {
     "data": {
      "text/plain": [
       "<matplotlib.image.AxesImage at 0x2b41228008d0>"
      ]
     },
     "execution_count": 31,
     "metadata": {},
     "output_type": "execute_result"
    },
    {
     "data": {
      "image/png": "[encoded data removed]",
      "text/plain": [
       "<Figure size 432x288 with 1 Axes>"
      ]
     },
     "metadata": {
      "needs_background": "light"
     },
     "output_type": "display_data"
    }
   ],
   "source": [
    "imshow(X_test[120])"
   ]
  },
  {
   "cell_type": "code",
   "execution_count": 21,
   "metadata": {},
   "outputs": [
    {
     "data": {
      "text/plain": [
       "((60000, 100, 100), (20000, 100, 100), (20000, 100, 100))"
      ]
     },
     "execution_count": 21,
     "metadata": {},
     "output_type": "execute_result"
    }
   ],
   "source": [
    "X_train.shape, X_val.shape, X_test.shape"
   ]
  },
  {
   "cell_type": "code",
   "execution_count": 22,
   "metadata": {},
   "outputs": [],
   "source": [
    "#\n",
    "# CREATE 3 CHANNELS\n",
    "#\n",
    "X_train_ = X_train.reshape(X_train.shape[0],1,X_train.shape[-2],X_train.shape[-1])\n",
    "X_train_rgb = np.zeros((X_train.shape[0], 3, X_train.shape[-2], X_train.shape[-1]), dtype=X_train.dtype)\n",
    "X_train_rgb[:,:,:,:] = X_train_\n",
    "\n",
    "X_val_ = X_val.reshape(X_val.shape[0],1,X_val.shape[-2],X_val.shape[-1])\n",
    "X_val_rgb = np.zeros((X_val.shape[0], 3, X_val.shape[-2], X_val.shape[-1]), dtype=X_val.dtype)\n",
    "X_val_rgb[:,:,:,:] = X_val_\n",
    "\n",
    "X_test_ = X_test.reshape(X_test.shape[0],1,X_test.shape[-2],X_test.shape[-1])\n",
    "X_test_rgb = np.zeros((X_test.shape[0], 3, X_test.shape[-2], X_test.shape[-1]), dtype=X_test.dtype)\n",
    "X_test_rgb[:,:,:,:] = X_test_"
   ]
  },
  {
   "cell_type": "code",
   "execution_count": 25,
   "metadata": {},
   "outputs": [],
   "source": [
    "# reshape regression target\n",
    "y_train_ = y_train.reshape(-1, 1)\n",
    "y_val_ = y_val.reshape(-1, 1)\n",
    "y_test_ = y_test.reshape(-1, 1)"
   ]
  },
  {
   "cell_type": "code",
   "execution_count": 27,
   "metadata": {
    "scrolled": true
   },
   "outputs": [
    {
     "name": "stdout",
     "output_type": "stream",
     "text": [
      "  epoch    train_loss    valid_loss      dur\n",
      "-------  ------------  ------------  -------\n",
      "      1        \u001b[36m0.0774\u001b[0m        \u001b[32m0.0498\u001b[0m  23.8971\n",
      "      2        \u001b[36m0.0284\u001b[0m        \u001b[32m0.0070\u001b[0m  22.2418\n",
      "      3        \u001b[36m0.0072\u001b[0m        \u001b[32m0.0054\u001b[0m  22.6275\n",
      "      4        \u001b[36m0.0046\u001b[0m        \u001b[32m0.0052\u001b[0m  22.8305\n",
      "      5        \u001b[36m0.0037\u001b[0m        \u001b[32m0.0044\u001b[0m  22.8372\n",
      "      6        \u001b[36m0.0031\u001b[0m        \u001b[32m0.0036\u001b[0m  22.9005\n",
      "      7        \u001b[36m0.0025\u001b[0m        \u001b[32m0.0030\u001b[0m  22.8225\n",
      "      8        \u001b[36m0.0021\u001b[0m        \u001b[32m0.0024\u001b[0m  22.6814\n",
      "      9        \u001b[36m0.0017\u001b[0m        \u001b[32m0.0019\u001b[0m  22.7144\n",
      "     10        \u001b[36m0.0014\u001b[0m        \u001b[32m0.0016\u001b[0m  23.2620\n",
      "     11        \u001b[36m0.0012\u001b[0m        \u001b[32m0.0012\u001b[0m  23.5810\n",
      "     12        \u001b[36m0.0010\u001b[0m        \u001b[32m0.0010\u001b[0m  23.4473\n",
      "     13        \u001b[36m0.0008\u001b[0m        \u001b[32m0.0008\u001b[0m  23.4282\n",
      "     14        \u001b[36m0.0007\u001b[0m        \u001b[32m0.0006\u001b[0m  23.4530\n",
      "     15        \u001b[36m0.0006\u001b[0m        \u001b[32m0.0005\u001b[0m  23.4375\n",
      "     16        \u001b[36m0.0005\u001b[0m        \u001b[32m0.0004\u001b[0m  23.5052\n",
      "     17        \u001b[36m0.0004\u001b[0m        \u001b[32m0.0004\u001b[0m  23.4422\n",
      "     18        \u001b[36m0.0004\u001b[0m        \u001b[32m0.0003\u001b[0m  23.5545\n",
      "     19        \u001b[36m0.0003\u001b[0m        \u001b[32m0.0003\u001b[0m  23.4520\n",
      "     20        \u001b[36m0.0003\u001b[0m        \u001b[32m0.0002\u001b[0m  23.6196\n",
      "     21        \u001b[36m0.0003\u001b[0m        \u001b[32m0.0002\u001b[0m  23.4230\n",
      "     22        \u001b[36m0.0003\u001b[0m        \u001b[32m0.0002\u001b[0m  23.7069\n",
      "     23        \u001b[36m0.0002\u001b[0m        \u001b[32m0.0002\u001b[0m  23.3614\n",
      "     24        \u001b[36m0.0002\u001b[0m        \u001b[32m0.0002\u001b[0m  23.7859\n",
      "     25        \u001b[36m0.0002\u001b[0m        \u001b[32m0.0001\u001b[0m  23.2769\n",
      "     26        \u001b[36m0.0002\u001b[0m        \u001b[32m0.0001\u001b[0m  23.8462\n",
      "     27        \u001b[36m0.0002\u001b[0m        \u001b[32m0.0001\u001b[0m  23.1887\n",
      "     28        \u001b[36m0.0002\u001b[0m        \u001b[32m0.0001\u001b[0m  23.8726\n",
      "     29        \u001b[36m0.0002\u001b[0m        \u001b[32m0.0001\u001b[0m  23.1865\n",
      "     30        \u001b[36m0.0001\u001b[0m        \u001b[32m0.0001\u001b[0m  23.9161\n",
      "Test MAE: 0.22350661\n",
      "Test MLAE: 4.490291719367767\n"
     ]
    }
   ],
   "source": [
    "#\n",
    "# WE ARE TRYING RIGHT NOW TO HAVE X_VAR IN THE TRAINING/VAL. BUT Y_VAR AND WIDTH FOR TESTING\n",
    "#\n",
    "Z = NeuralNetRegressor(\n",
    "    CZR.CORnet_Z_Regression,\n",
    "    max_epochs=30,\n",
    "    lr=1e-3,\n",
    "    batch_size=32,\n",
    "    train_split=predefined_split(Dataset(X_val_rgb, y_val_)),\n",
    "    device='cuda'\n",
    ")\n",
    "Z.fit(X_train_rgb, y_train_);\n",
    "y_pred = Z.predict(X_test_rgb)\n",
    "# print('Test acc.:', np.mean(y_pred == y_test_))\n",
    "print('Test MAE:', sklearn.metrics.mean_absolute_error(y_pred, y_test_))\n",
    "MLAE = np.log2(sklearn.metrics.mean_absolute_error(y_pred*100, y_test_*100)+.125)\n",
    "print('Test MLAE:', MLAE)"
   ]
  },
  {
   "cell_type": "code",
   "execution_count": 32,
   "metadata": {},
   "outputs": [
    {
     "name": "stdout",
     "output_type": "stream",
     "text": [
      "  epoch    train_loss    valid_loss      dur\n",
      "-------  ------------  ------------  -------\n",
      "      1        \u001b[36m0.0782\u001b[0m        \u001b[32m0.0524\u001b[0m  22.7491\n",
      "      2        \u001b[36m0.0296\u001b[0m        \u001b[32m0.0071\u001b[0m  22.6224\n",
      "      3        \u001b[36m0.0071\u001b[0m        \u001b[32m0.0055\u001b[0m  23.9295\n",
      "      4        \u001b[36m0.0045\u001b[0m        \u001b[32m0.0051\u001b[0m  23.9396\n",
      "      5        \u001b[36m0.0035\u001b[0m        \u001b[32m0.0042\u001b[0m  22.9054\n",
      "      6        \u001b[36m0.0028\u001b[0m        \u001b[32m0.0034\u001b[0m  24.2044\n",
      "      7        \u001b[36m0.0022\u001b[0m        \u001b[32m0.0026\u001b[0m  22.8426\n",
      "      8        \u001b[36m0.0018\u001b[0m        \u001b[32m0.0021\u001b[0m  24.2846\n",
      "      9        \u001b[36m0.0014\u001b[0m        \u001b[32m0.0016\u001b[0m  23.5142\n",
      "     10        \u001b[36m0.0011\u001b[0m        \u001b[32m0.0012\u001b[0m  23.6539\n",
      "     11        \u001b[36m0.0009\u001b[0m        \u001b[32m0.0010\u001b[0m  24.2584\n",
      "     12        \u001b[36m0.0007\u001b[0m        \u001b[32m0.0007\u001b[0m  22.9008\n",
      "     13        \u001b[36m0.0006\u001b[0m        \u001b[32m0.0006\u001b[0m  24.2865\n",
      "     14        \u001b[36m0.0005\u001b[0m        \u001b[32m0.0005\u001b[0m  22.8782\n",
      "Test MAE: 0.30420116\n",
      "Test MLAE: 4.932869834235494\n"
     ]
    }
   ],
   "source": [
    "#\n",
    "# WE ARE TRYING RIGHT NOW TO HAVE X_VAR IN THE TRAINING/VAL. AND ONLY Y_VAR FOR TESTING\n",
    "#\n",
    "Z = NeuralNetRegressor(\n",
    "    CZR.CORnet_Z_Regression,\n",
    "    max_epochs=30,\n",
    "    lr=1e-3,\n",
    "    batch_size=32,\n",
    "    train_split=predefined_split(Dataset(X_val_rgb, y_val_)),\n",
    "    device='cuda'\n",
    ")\n",
    "Z.fit(X_train_rgb, y_train_);\n",
    "y_pred = Z.predict(X_test_rgb)\n",
    "# print('Test acc.:', np.mean(y_pred == y_test_))\n",
    "print('Test MAE:', sklearn.metrics.mean_absolute_error(y_pred, y_test_))\n",
    "MLAE = np.log2(sklearn.metrics.mean_absolute_error(y_pred*100, y_test_*100)+.125)\n",
    "print('Test MLAE:', MLAE)"
   ]
  },
  {
   "cell_type": "code",
   "execution_count": 33,
   "metadata": {},
   "outputs": [
    {
     "name": "stdout",
     "output_type": "stream",
     "text": [
      "  epoch    train_loss    valid_loss       dur\n",
      "-------  ------------  ------------  --------\n",
      "      1        \u001b[36m0.0024\u001b[0m        \u001b[32m0.0039\u001b[0m  496.5834\n",
      "      2        \u001b[36m0.0007\u001b[0m        \u001b[32m0.0033\u001b[0m  496.8037\n",
      "      3        \u001b[36m0.0005\u001b[0m        0.0034  496.6461\n",
      "      4        \u001b[36m0.0004\u001b[0m        \u001b[32m0.0032\u001b[0m  496.4255\n",
      "      5        \u001b[36m0.0004\u001b[0m        \u001b[32m0.0031\u001b[0m  496.2965\n",
      "      6        \u001b[36m0.0003\u001b[0m        \u001b[32m0.0030\u001b[0m  495.9736\n",
      "      7        \u001b[36m0.0003\u001b[0m        \u001b[32m0.0029\u001b[0m  496.2188\n",
      "Test MAE: 1.2610775\n",
      "Test MLAE: 6.979942442765149\n"
     ]
    }
   ],
   "source": [
    "S = NeuralNetRegressor(\n",
    "    CSR.CORnet_S_Regression,\n",
    "    max_epochs=30,\n",
    "    lr=1e-3,\n",
    "    batch_size=32,\n",
    "    train_split=predefined_split(Dataset(X_val_rgb, y_val_)),\n",
    "    device='cuda'\n",
    ")\n",
    "S.fit(X_train_rgb, y_train_);\n",
    "y_pred = S.predict(X_test_rgb)\n",
    "# print('Test acc.:', np.mean(y_pred == y_test_))\n",
    "print('Test MAE:', sklearn.metrics.mean_absolute_error(y_pred, y_test_))\n",
    "MLAE = np.log2(sklearn.metrics.mean_absolute_error(y_pred*100, y_test_*100)+.125)\n",
    "print('Test MLAE:', MLAE)"
   ]
  },
  {
   "cell_type": "code",
   "execution_count": null,
   "metadata": {},
   "outputs": [],
   "source": []
  },
  {
   "cell_type": "code",
   "execution_count": null,
   "metadata": {},
   "outputs": [],
   "source": []
  },
  {
   "cell_type": "code",
   "execution_count": null,
   "metadata": {},
   "outputs": [],
   "source": []
  },
  {
   "cell_type": "code",
   "execution_count": 574,
   "metadata": {},
   "outputs": [
    {
     "name": "stdout",
     "output_type": "stream",
     "text": [
      "  epoch    train_loss    valid_loss       dur\n",
      "-------  ------------  ------------  --------\n",
      "      1        \u001b[36m0.0011\u001b[0m       \u001b[32m15.9672\u001b[0m  495.6455\n",
      "      2        \u001b[36m0.0002\u001b[0m       \u001b[32m13.6742\u001b[0m  497.0290\n",
      "      3        \u001b[36m0.0001\u001b[0m       \u001b[32m13.6325\u001b[0m  496.8716\n",
      "      4        \u001b[36m0.0001\u001b[0m       \u001b[32m13.2963\u001b[0m  496.8030\n",
      "Test MAE: 2.687762\n",
      "Test MLAE: 8.070932461507919\n"
     ]
    }
   ],
   "source": [
    "S = NeuralNetRegressor(\n",
    "    CSR.CORnet_S_Regression,\n",
    "    max_epochs=30,\n",
    "    lr=1e-3,\n",
    "    batch_size=32,\n",
    "    train_split=predefined_split(Dataset(X_val_rgb, y_val_)),\n",
    "    device='cuda'\n",
    ")\n",
    "S.fit(X_train_rgb, y_train_);\n",
    "y_pred = S.predict(X_test_rgb)\n",
    "# print('Test acc.:', np.mean(y_pred == y_test_))\n",
    "print('Test MAE:', sklearn.metrics.mean_absolute_error(y_pred, y_test_))\n",
    "MLAE = np.log2(sklearn.metrics.mean_absolute_error(y_pred*100, y_test_*100)+.125)\n",
    "print('Test MLAE:', MLAE)"
   ]
  },
  {
   "cell_type": "code",
   "execution_count": null,
   "metadata": {},
   "outputs": [],
   "source": []
  },
  {
   "cell_type": "code",
   "execution_count": null,
   "metadata": {},
   "outputs": [],
   "source": []
  },
  {
   "cell_type": "code",
   "execution_count": 7,
   "metadata": {},
   "outputs": [],
   "source": [
    "R = NeuralNetClassifier(\n",
    "    CR.CORnet_R,\n",
    "    max_epochs=30,\n",
    "    lr=1e-3,\n",
    "    batch_size=128,\n",
    "    criterion=torch.nn.CrossEntropyLoss,\n",
    "    device='cuda'\n",
    ")"
   ]
  },
  {
   "cell_type": "code",
   "execution_count": 8,
   "metadata": {},
   "outputs": [
    {
     "ename": "RuntimeError",
     "evalue": "The size of tensor a (4) must match the size of tensor b (28) at non-singleton dimension 3",
     "output_type": "error",
     "traceback": [
      "\u001b[0;31m---------------------------------------------------------------------------\u001b[0m",
      "\u001b[0;31mRuntimeError\u001b[0m                              Traceback (most recent call last)",
      "\u001b[0;32m<ipython-input-8-74e11b48e669>\u001b[0m in \u001b[0;36m<module>\u001b[0;34m\u001b[0m\n\u001b[0;32m----> 1\u001b[0;31m \u001b[0mR\u001b[0m\u001b[0;34m.\u001b[0m\u001b[0mfit\u001b[0m\u001b[0;34m(\u001b[0m\u001b[0mX_train_rgb\u001b[0m\u001b[0;34m,\u001b[0m \u001b[0my_train\u001b[0m\u001b[0;34m)\u001b[0m\u001b[0;34m;\u001b[0m\u001b[0;34m\u001b[0m\u001b[0m\n\u001b[0m\u001b[1;32m      2\u001b[0m \u001b[0my_pred\u001b[0m \u001b[0;34m=\u001b[0m \u001b[0mR\u001b[0m\u001b[0;34m.\u001b[0m\u001b[0mpredict\u001b[0m\u001b[0;34m(\u001b[0m\u001b[0mX_test_rgb\u001b[0m\u001b[0;34m)\u001b[0m\u001b[0;34m\u001b[0m\u001b[0m\n\u001b[1;32m      3\u001b[0m \u001b[0mprint\u001b[0m\u001b[0;34m(\u001b[0m\u001b[0;34m'Test acc.:'\u001b[0m\u001b[0;34m,\u001b[0m \u001b[0mnp\u001b[0m\u001b[0;34m.\u001b[0m\u001b[0mmean\u001b[0m\u001b[0;34m(\u001b[0m\u001b[0my_pred\u001b[0m \u001b[0;34m==\u001b[0m \u001b[0my_test\u001b[0m\u001b[0;34m)\u001b[0m\u001b[0;34m)\u001b[0m\u001b[0;34m\u001b[0m\u001b[0m\n",
      "\u001b[0;32m/n/pfister_lab/haehn/ENVS/CORNET/lib/python3.6/site-packages/skorch/classifier.py\u001b[0m in \u001b[0;36mfit\u001b[0;34m(self, X, y, **fit_params)\u001b[0m\n\u001b[1;32m    119\u001b[0m         \u001b[0;31m# this is actually a pylint bug:\u001b[0m\u001b[0;34m\u001b[0m\u001b[0;34m\u001b[0m\u001b[0m\n\u001b[1;32m    120\u001b[0m         \u001b[0;31m# https://github.com/PyCQA/pylint/issues/1085\u001b[0m\u001b[0;34m\u001b[0m\u001b[0;34m\u001b[0m\u001b[0m\n\u001b[0;32m--> 121\u001b[0;31m         \u001b[0;32mreturn\u001b[0m \u001b[0msuper\u001b[0m\u001b[0;34m(\u001b[0m\u001b[0mNeuralNetClassifier\u001b[0m\u001b[0;34m,\u001b[0m \u001b[0mself\u001b[0m\u001b[0;34m)\u001b[0m\u001b[0;34m.\u001b[0m\u001b[0mfit\u001b[0m\u001b[0;34m(\u001b[0m\u001b[0mX\u001b[0m\u001b[0;34m,\u001b[0m \u001b[0my\u001b[0m\u001b[0;34m,\u001b[0m \u001b[0;34m**\u001b[0m\u001b[0mfit_params\u001b[0m\u001b[0;34m)\u001b[0m\u001b[0;34m\u001b[0m\u001b[0m\n\u001b[0m\u001b[1;32m    122\u001b[0m \u001b[0;34m\u001b[0m\u001b[0m\n\u001b[1;32m    123\u001b[0m     \u001b[0;32mdef\u001b[0m \u001b[0mpredict_proba\u001b[0m\u001b[0;34m(\u001b[0m\u001b[0mself\u001b[0m\u001b[0;34m,\u001b[0m \u001b[0mX\u001b[0m\u001b[0;34m)\u001b[0m\u001b[0;34m:\u001b[0m\u001b[0;34m\u001b[0m\u001b[0m\n",
      "\u001b[0;32m/n/pfister_lab/haehn/ENVS/CORNET/lib/python3.6/site-packages/skorch/net.py\u001b[0m in \u001b[0;36mfit\u001b[0;34m(self, X, y, **fit_params)\u001b[0m\n\u001b[1;32m    773\u001b[0m             \u001b[0mself\u001b[0m\u001b[0;34m.\u001b[0m\u001b[0minitialize\u001b[0m\u001b[0;34m(\u001b[0m\u001b[0;34m)\u001b[0m\u001b[0;34m\u001b[0m\u001b[0m\n\u001b[1;32m    774\u001b[0m \u001b[0;34m\u001b[0m\u001b[0m\n\u001b[0;32m--> 775\u001b[0;31m         \u001b[0mself\u001b[0m\u001b[0;34m.\u001b[0m\u001b[0mpartial_fit\u001b[0m\u001b[0;34m(\u001b[0m\u001b[0mX\u001b[0m\u001b[0;34m,\u001b[0m \u001b[0my\u001b[0m\u001b[0;34m,\u001b[0m \u001b[0;34m**\u001b[0m\u001b[0mfit_params\u001b[0m\u001b[0;34m)\u001b[0m\u001b[0;34m\u001b[0m\u001b[0m\n\u001b[0m\u001b[1;32m    776\u001b[0m         \u001b[0;32mreturn\u001b[0m \u001b[0mself\u001b[0m\u001b[0;34m\u001b[0m\u001b[0m\n\u001b[1;32m    777\u001b[0m \u001b[0;34m\u001b[0m\u001b[0m\n",
      "\u001b[0;32m/n/pfister_lab/haehn/ENVS/CORNET/lib/python3.6/site-packages/skorch/net.py\u001b[0m in \u001b[0;36mpartial_fit\u001b[0;34m(self, X, y, classes, **fit_params)\u001b[0m\n\u001b[1;32m    733\u001b[0m         \u001b[0mself\u001b[0m\u001b[0;34m.\u001b[0m\u001b[0mnotify\u001b[0m\u001b[0;34m(\u001b[0m\u001b[0;34m'on_train_begin'\u001b[0m\u001b[0;34m,\u001b[0m \u001b[0mX\u001b[0m\u001b[0;34m=\u001b[0m\u001b[0mX\u001b[0m\u001b[0;34m,\u001b[0m \u001b[0my\u001b[0m\u001b[0;34m=\u001b[0m\u001b[0my\u001b[0m\u001b[0;34m)\u001b[0m\u001b[0;34m\u001b[0m\u001b[0m\n\u001b[1;32m    734\u001b[0m         \u001b[0;32mtry\u001b[0m\u001b[0;34m:\u001b[0m\u001b[0;34m\u001b[0m\u001b[0m\n\u001b[0;32m--> 735\u001b[0;31m             \u001b[0mself\u001b[0m\u001b[0;34m.\u001b[0m\u001b[0mfit_loop\u001b[0m\u001b[0;34m(\u001b[0m\u001b[0mX\u001b[0m\u001b[0;34m,\u001b[0m \u001b[0my\u001b[0m\u001b[0;34m,\u001b[0m \u001b[0;34m**\u001b[0m\u001b[0mfit_params\u001b[0m\u001b[0;34m)\u001b[0m\u001b[0;34m\u001b[0m\u001b[0m\n\u001b[0m\u001b[1;32m    736\u001b[0m         \u001b[0;32mexcept\u001b[0m \u001b[0mKeyboardInterrupt\u001b[0m\u001b[0;34m:\u001b[0m\u001b[0;34m\u001b[0m\u001b[0m\n\u001b[1;32m    737\u001b[0m             \u001b[0;32mpass\u001b[0m\u001b[0;34m\u001b[0m\u001b[0m\n",
      "\u001b[0;32m/n/pfister_lab/haehn/ENVS/CORNET/lib/python3.6/site-packages/skorch/net.py\u001b[0m in \u001b[0;36mfit_loop\u001b[0;34m(self, X, y, epochs, **fit_params)\u001b[0m\n\u001b[1;32m    672\u001b[0m                 \u001b[0myi_res\u001b[0m \u001b[0;34m=\u001b[0m \u001b[0myi\u001b[0m \u001b[0;32mif\u001b[0m \u001b[0;32mnot\u001b[0m \u001b[0my_train_is_ph\u001b[0m \u001b[0;32melse\u001b[0m \u001b[0;32mNone\u001b[0m\u001b[0;34m\u001b[0m\u001b[0m\n\u001b[1;32m    673\u001b[0m                 \u001b[0mself\u001b[0m\u001b[0;34m.\u001b[0m\u001b[0mnotify\u001b[0m\u001b[0;34m(\u001b[0m\u001b[0;34m'on_batch_begin'\u001b[0m\u001b[0;34m,\u001b[0m \u001b[0mX\u001b[0m\u001b[0;34m=\u001b[0m\u001b[0mXi\u001b[0m\u001b[0;34m,\u001b[0m \u001b[0my\u001b[0m\u001b[0;34m=\u001b[0m\u001b[0myi_res\u001b[0m\u001b[0;34m,\u001b[0m \u001b[0mtraining\u001b[0m\u001b[0;34m=\u001b[0m\u001b[0;32mTrue\u001b[0m\u001b[0;34m)\u001b[0m\u001b[0;34m\u001b[0m\u001b[0m\n\u001b[0;32m--> 674\u001b[0;31m                 \u001b[0mstep\u001b[0m \u001b[0;34m=\u001b[0m \u001b[0mself\u001b[0m\u001b[0;34m.\u001b[0m\u001b[0mtrain_step\u001b[0m\u001b[0;34m(\u001b[0m\u001b[0mXi\u001b[0m\u001b[0;34m,\u001b[0m \u001b[0myi\u001b[0m\u001b[0;34m,\u001b[0m \u001b[0;34m**\u001b[0m\u001b[0mfit_params\u001b[0m\u001b[0;34m)\u001b[0m\u001b[0;34m\u001b[0m\u001b[0m\n\u001b[0m\u001b[1;32m    675\u001b[0m                 \u001b[0mself\u001b[0m\u001b[0;34m.\u001b[0m\u001b[0mhistory\u001b[0m\u001b[0;34m.\u001b[0m\u001b[0mrecord_batch\u001b[0m\u001b[0;34m(\u001b[0m\u001b[0;34m'train_loss'\u001b[0m\u001b[0;34m,\u001b[0m \u001b[0mstep\u001b[0m\u001b[0;34m[\u001b[0m\u001b[0;34m'loss'\u001b[0m\u001b[0;34m]\u001b[0m\u001b[0;34m.\u001b[0m\u001b[0mitem\u001b[0m\u001b[0;34m(\u001b[0m\u001b[0;34m)\u001b[0m\u001b[0;34m)\u001b[0m\u001b[0;34m\u001b[0m\u001b[0m\n\u001b[1;32m    676\u001b[0m                 \u001b[0mself\u001b[0m\u001b[0;34m.\u001b[0m\u001b[0mhistory\u001b[0m\u001b[0;34m.\u001b[0m\u001b[0mrecord_batch\u001b[0m\u001b[0;34m(\u001b[0m\u001b[0;34m'train_batch_size'\u001b[0m\u001b[0;34m,\u001b[0m \u001b[0mget_len\u001b[0m\u001b[0;34m(\u001b[0m\u001b[0mXi\u001b[0m\u001b[0;34m)\u001b[0m\u001b[0;34m)\u001b[0m\u001b[0;34m\u001b[0m\u001b[0m\n",
      "\u001b[0;32m/n/pfister_lab/haehn/ENVS/CORNET/lib/python3.6/site-packages/skorch/net.py\u001b[0m in \u001b[0;36mtrain_step\u001b[0;34m(self, Xi, yi, **fit_params)\u001b[0m\n\u001b[1;32m    602\u001b[0m             \u001b[0mstep_accumulator\u001b[0m\u001b[0;34m.\u001b[0m\u001b[0mstore_step\u001b[0m\u001b[0;34m(\u001b[0m\u001b[0mstep\u001b[0m\u001b[0;34m)\u001b[0m\u001b[0;34m\u001b[0m\u001b[0m\n\u001b[1;32m    603\u001b[0m             \u001b[0;32mreturn\u001b[0m \u001b[0mstep\u001b[0m\u001b[0;34m[\u001b[0m\u001b[0;34m'loss'\u001b[0m\u001b[0;34m]\u001b[0m\u001b[0;34m\u001b[0m\u001b[0m\n\u001b[0;32m--> 604\u001b[0;31m         \u001b[0mself\u001b[0m\u001b[0;34m.\u001b[0m\u001b[0moptimizer_\u001b[0m\u001b[0;34m.\u001b[0m\u001b[0mstep\u001b[0m\u001b[0;34m(\u001b[0m\u001b[0mstep_fn\u001b[0m\u001b[0;34m)\u001b[0m\u001b[0;34m\u001b[0m\u001b[0m\n\u001b[0m\u001b[1;32m    605\u001b[0m         \u001b[0;32mreturn\u001b[0m \u001b[0mstep_accumulator\u001b[0m\u001b[0;34m.\u001b[0m\u001b[0mget_step\u001b[0m\u001b[0;34m(\u001b[0m\u001b[0;34m)\u001b[0m\u001b[0;34m\u001b[0m\u001b[0m\n\u001b[1;32m    606\u001b[0m \u001b[0;34m\u001b[0m\u001b[0m\n",
      "\u001b[0;32m/n/pfister_lab/haehn/ENVS/CORNET/lib/python3.6/site-packages/torch/optim/sgd.py\u001b[0m in \u001b[0;36mstep\u001b[0;34m(self, closure)\u001b[0m\n\u001b[1;32m     78\u001b[0m         \u001b[0mloss\u001b[0m \u001b[0;34m=\u001b[0m \u001b[0;32mNone\u001b[0m\u001b[0;34m\u001b[0m\u001b[0m\n\u001b[1;32m     79\u001b[0m         \u001b[0;32mif\u001b[0m \u001b[0mclosure\u001b[0m \u001b[0;32mis\u001b[0m \u001b[0;32mnot\u001b[0m \u001b[0;32mNone\u001b[0m\u001b[0;34m:\u001b[0m\u001b[0;34m\u001b[0m\u001b[0m\n\u001b[0;32m---> 80\u001b[0;31m             \u001b[0mloss\u001b[0m \u001b[0;34m=\u001b[0m \u001b[0mclosure\u001b[0m\u001b[0;34m(\u001b[0m\u001b[0;34m)\u001b[0m\u001b[0;34m\u001b[0m\u001b[0m\n\u001b[0m\u001b[1;32m     81\u001b[0m \u001b[0;34m\u001b[0m\u001b[0m\n\u001b[1;32m     82\u001b[0m         \u001b[0;32mfor\u001b[0m \u001b[0mgroup\u001b[0m \u001b[0;32min\u001b[0m \u001b[0mself\u001b[0m\u001b[0;34m.\u001b[0m\u001b[0mparam_groups\u001b[0m\u001b[0;34m:\u001b[0m\u001b[0;34m\u001b[0m\u001b[0m\n",
      "\u001b[0;32m/n/pfister_lab/haehn/ENVS/CORNET/lib/python3.6/site-packages/skorch/net.py\u001b[0m in \u001b[0;36mstep_fn\u001b[0;34m()\u001b[0m\n\u001b[1;32m    599\u001b[0m         \u001b[0mstep_accumulator\u001b[0m \u001b[0;34m=\u001b[0m \u001b[0mself\u001b[0m\u001b[0;34m.\u001b[0m\u001b[0mget_train_step_accumulator\u001b[0m\u001b[0;34m(\u001b[0m\u001b[0;34m)\u001b[0m\u001b[0;34m\u001b[0m\u001b[0m\n\u001b[1;32m    600\u001b[0m         \u001b[0;32mdef\u001b[0m \u001b[0mstep_fn\u001b[0m\u001b[0;34m(\u001b[0m\u001b[0;34m)\u001b[0m\u001b[0;34m:\u001b[0m\u001b[0;34m\u001b[0m\u001b[0m\n\u001b[0;32m--> 601\u001b[0;31m             \u001b[0mstep\u001b[0m \u001b[0;34m=\u001b[0m \u001b[0mself\u001b[0m\u001b[0;34m.\u001b[0m\u001b[0mtrain_step_single\u001b[0m\u001b[0;34m(\u001b[0m\u001b[0mXi\u001b[0m\u001b[0;34m,\u001b[0m \u001b[0myi\u001b[0m\u001b[0;34m,\u001b[0m \u001b[0;34m**\u001b[0m\u001b[0mfit_params\u001b[0m\u001b[0;34m)\u001b[0m\u001b[0;34m\u001b[0m\u001b[0m\n\u001b[0m\u001b[1;32m    602\u001b[0m             \u001b[0mstep_accumulator\u001b[0m\u001b[0;34m.\u001b[0m\u001b[0mstore_step\u001b[0m\u001b[0;34m(\u001b[0m\u001b[0mstep\u001b[0m\u001b[0;34m)\u001b[0m\u001b[0;34m\u001b[0m\u001b[0m\n\u001b[1;32m    603\u001b[0m             \u001b[0;32mreturn\u001b[0m \u001b[0mstep\u001b[0m\u001b[0;34m[\u001b[0m\u001b[0;34m'loss'\u001b[0m\u001b[0;34m]\u001b[0m\u001b[0;34m\u001b[0m\u001b[0m\n",
      "\u001b[0;32m/n/pfister_lab/haehn/ENVS/CORNET/lib/python3.6/site-packages/skorch/net.py\u001b[0m in \u001b[0;36mtrain_step_single\u001b[0;34m(self, Xi, yi, **fit_params)\u001b[0m\n\u001b[1;32m    541\u001b[0m         \u001b[0mself\u001b[0m\u001b[0;34m.\u001b[0m\u001b[0mmodule_\u001b[0m\u001b[0;34m.\u001b[0m\u001b[0mtrain\u001b[0m\u001b[0;34m(\u001b[0m\u001b[0;34m)\u001b[0m\u001b[0;34m\u001b[0m\u001b[0m\n\u001b[1;32m    542\u001b[0m         \u001b[0mself\u001b[0m\u001b[0;34m.\u001b[0m\u001b[0moptimizer_\u001b[0m\u001b[0;34m.\u001b[0m\u001b[0mzero_grad\u001b[0m\u001b[0;34m(\u001b[0m\u001b[0;34m)\u001b[0m\u001b[0;34m\u001b[0m\u001b[0m\n\u001b[0;32m--> 543\u001b[0;31m         \u001b[0my_pred\u001b[0m \u001b[0;34m=\u001b[0m \u001b[0mself\u001b[0m\u001b[0;34m.\u001b[0m\u001b[0minfer\u001b[0m\u001b[0;34m(\u001b[0m\u001b[0mXi\u001b[0m\u001b[0;34m,\u001b[0m \u001b[0;34m**\u001b[0m\u001b[0mfit_params\u001b[0m\u001b[0;34m)\u001b[0m\u001b[0;34m\u001b[0m\u001b[0m\n\u001b[0m\u001b[1;32m    544\u001b[0m         \u001b[0mloss\u001b[0m \u001b[0;34m=\u001b[0m \u001b[0mself\u001b[0m\u001b[0;34m.\u001b[0m\u001b[0mget_loss\u001b[0m\u001b[0;34m(\u001b[0m\u001b[0my_pred\u001b[0m\u001b[0;34m,\u001b[0m \u001b[0myi\u001b[0m\u001b[0;34m,\u001b[0m \u001b[0mX\u001b[0m\u001b[0;34m=\u001b[0m\u001b[0mXi\u001b[0m\u001b[0;34m,\u001b[0m \u001b[0mtraining\u001b[0m\u001b[0;34m=\u001b[0m\u001b[0;32mTrue\u001b[0m\u001b[0;34m)\u001b[0m\u001b[0;34m\u001b[0m\u001b[0m\n\u001b[1;32m    545\u001b[0m         \u001b[0mloss\u001b[0m\u001b[0;34m.\u001b[0m\u001b[0mbackward\u001b[0m\u001b[0;34m(\u001b[0m\u001b[0;34m)\u001b[0m\u001b[0;34m\u001b[0m\u001b[0m\n",
      "\u001b[0;32m/n/pfister_lab/haehn/ENVS/CORNET/lib/python3.6/site-packages/skorch/net.py\u001b[0m in \u001b[0;36minfer\u001b[0;34m(self, x, **fit_params)\u001b[0m\n\u001b[1;32m    897\u001b[0m             \u001b[0mx_dict\u001b[0m \u001b[0;34m=\u001b[0m \u001b[0mself\u001b[0m\u001b[0;34m.\u001b[0m\u001b[0m_merge_x_and_fit_params\u001b[0m\u001b[0;34m(\u001b[0m\u001b[0mx\u001b[0m\u001b[0;34m,\u001b[0m \u001b[0mfit_params\u001b[0m\u001b[0;34m)\u001b[0m\u001b[0;34m\u001b[0m\u001b[0m\n\u001b[1;32m    898\u001b[0m             \u001b[0;32mreturn\u001b[0m \u001b[0mself\u001b[0m\u001b[0;34m.\u001b[0m\u001b[0mmodule_\u001b[0m\u001b[0;34m(\u001b[0m\u001b[0;34m**\u001b[0m\u001b[0mx_dict\u001b[0m\u001b[0;34m)\u001b[0m\u001b[0;34m\u001b[0m\u001b[0m\n\u001b[0;32m--> 899\u001b[0;31m         \u001b[0;32mreturn\u001b[0m \u001b[0mself\u001b[0m\u001b[0;34m.\u001b[0m\u001b[0mmodule_\u001b[0m\u001b[0;34m(\u001b[0m\u001b[0mx\u001b[0m\u001b[0;34m,\u001b[0m \u001b[0;34m**\u001b[0m\u001b[0mfit_params\u001b[0m\u001b[0;34m)\u001b[0m\u001b[0;34m\u001b[0m\u001b[0m\n\u001b[0m\u001b[1;32m    900\u001b[0m \u001b[0;34m\u001b[0m\u001b[0m\n\u001b[1;32m    901\u001b[0m     \u001b[0;32mdef\u001b[0m \u001b[0mpredict_proba\u001b[0m\u001b[0;34m(\u001b[0m\u001b[0mself\u001b[0m\u001b[0;34m,\u001b[0m \u001b[0mX\u001b[0m\u001b[0;34m)\u001b[0m\u001b[0;34m:\u001b[0m\u001b[0;34m\u001b[0m\u001b[0m\n",
      "\u001b[0;32m/n/pfister_lab/haehn/ENVS/CORNET/lib/python3.6/site-packages/torch/nn/modules/module.py\u001b[0m in \u001b[0;36m__call__\u001b[0;34m(self, *input, **kwargs)\u001b[0m\n\u001b[1;32m    475\u001b[0m             \u001b[0mresult\u001b[0m \u001b[0;34m=\u001b[0m \u001b[0mself\u001b[0m\u001b[0;34m.\u001b[0m\u001b[0m_slow_forward\u001b[0m\u001b[0;34m(\u001b[0m\u001b[0;34m*\u001b[0m\u001b[0minput\u001b[0m\u001b[0;34m,\u001b[0m \u001b[0;34m**\u001b[0m\u001b[0mkwargs\u001b[0m\u001b[0;34m)\u001b[0m\u001b[0;34m\u001b[0m\u001b[0m\n\u001b[1;32m    476\u001b[0m         \u001b[0;32melse\u001b[0m\u001b[0;34m:\u001b[0m\u001b[0;34m\u001b[0m\u001b[0m\n\u001b[0;32m--> 477\u001b[0;31m             \u001b[0mresult\u001b[0m \u001b[0;34m=\u001b[0m \u001b[0mself\u001b[0m\u001b[0;34m.\u001b[0m\u001b[0mforward\u001b[0m\u001b[0;34m(\u001b[0m\u001b[0;34m*\u001b[0m\u001b[0minput\u001b[0m\u001b[0;34m,\u001b[0m \u001b[0;34m**\u001b[0m\u001b[0mkwargs\u001b[0m\u001b[0;34m)\u001b[0m\u001b[0;34m\u001b[0m\u001b[0m\n\u001b[0m\u001b[1;32m    478\u001b[0m         \u001b[0;32mfor\u001b[0m \u001b[0mhook\u001b[0m \u001b[0;32min\u001b[0m \u001b[0mself\u001b[0m\u001b[0;34m.\u001b[0m\u001b[0m_forward_hooks\u001b[0m\u001b[0;34m.\u001b[0m\u001b[0mvalues\u001b[0m\u001b[0;34m(\u001b[0m\u001b[0;34m)\u001b[0m\u001b[0;34m:\u001b[0m\u001b[0;34m\u001b[0m\u001b[0m\n\u001b[1;32m    479\u001b[0m             \u001b[0mhook_result\u001b[0m \u001b[0;34m=\u001b[0m \u001b[0mhook\u001b[0m\u001b[0;34m(\u001b[0m\u001b[0mself\u001b[0m\u001b[0;34m,\u001b[0m \u001b[0minput\u001b[0m\u001b[0;34m,\u001b[0m \u001b[0mresult\u001b[0m\u001b[0;34m)\u001b[0m\u001b[0;34m\u001b[0m\u001b[0m\n",
      "\u001b[0;32m/net/seasfs02/srv/export/pfister_lab/share_root/haehn/Projects/perception/nets/cornet/cornet_r.py\u001b[0m in \u001b[0;36mforward\u001b[0;34m(self, inp)\u001b[0m\n\u001b[1;32m    103\u001b[0m                 \u001b[0mprev_output\u001b[0m \u001b[0;34m=\u001b[0m \u001b[0moutputs\u001b[0m\u001b[0;34m[\u001b[0m\u001b[0mprev_block\u001b[0m\u001b[0;34m]\u001b[0m\u001b[0;34m\u001b[0m\u001b[0m\n\u001b[1;32m    104\u001b[0m                 \u001b[0mprev_state\u001b[0m \u001b[0;34m=\u001b[0m \u001b[0mstates\u001b[0m\u001b[0;34m[\u001b[0m\u001b[0mblock\u001b[0m\u001b[0;34m]\u001b[0m\u001b[0;34m\u001b[0m\u001b[0m\n\u001b[0;32m--> 105\u001b[0;31m                 \u001b[0mnew_output\u001b[0m\u001b[0;34m,\u001b[0m \u001b[0mnew_state\u001b[0m \u001b[0;34m=\u001b[0m \u001b[0mgetattr\u001b[0m\u001b[0;34m(\u001b[0m\u001b[0mself\u001b[0m\u001b[0;34m,\u001b[0m \u001b[0mblock\u001b[0m\u001b[0;34m)\u001b[0m\u001b[0;34m(\u001b[0m\u001b[0mprev_output\u001b[0m\u001b[0;34m,\u001b[0m \u001b[0mprev_state\u001b[0m\u001b[0;34m)\u001b[0m\u001b[0;34m\u001b[0m\u001b[0m\n\u001b[0m\u001b[1;32m    106\u001b[0m                 \u001b[0moutputs\u001b[0m\u001b[0;34m[\u001b[0m\u001b[0mblock\u001b[0m\u001b[0;34m]\u001b[0m \u001b[0;34m=\u001b[0m \u001b[0mnew_output\u001b[0m\u001b[0;34m\u001b[0m\u001b[0m\n\u001b[1;32m    107\u001b[0m                 \u001b[0mstates\u001b[0m\u001b[0;34m[\u001b[0m\u001b[0mblock\u001b[0m\u001b[0;34m]\u001b[0m \u001b[0;34m=\u001b[0m \u001b[0mnew_state\u001b[0m\u001b[0;34m\u001b[0m\u001b[0m\n",
      "\u001b[0;32m/n/pfister_lab/haehn/ENVS/CORNET/lib/python3.6/site-packages/torch/nn/modules/module.py\u001b[0m in \u001b[0;36m__call__\u001b[0;34m(self, *input, **kwargs)\u001b[0m\n\u001b[1;32m    475\u001b[0m             \u001b[0mresult\u001b[0m \u001b[0;34m=\u001b[0m \u001b[0mself\u001b[0m\u001b[0;34m.\u001b[0m\u001b[0m_slow_forward\u001b[0m\u001b[0;34m(\u001b[0m\u001b[0;34m*\u001b[0m\u001b[0minput\u001b[0m\u001b[0;34m,\u001b[0m \u001b[0;34m**\u001b[0m\u001b[0mkwargs\u001b[0m\u001b[0;34m)\u001b[0m\u001b[0;34m\u001b[0m\u001b[0m\n\u001b[1;32m    476\u001b[0m         \u001b[0;32melse\u001b[0m\u001b[0;34m:\u001b[0m\u001b[0;34m\u001b[0m\u001b[0m\n\u001b[0;32m--> 477\u001b[0;31m             \u001b[0mresult\u001b[0m \u001b[0;34m=\u001b[0m \u001b[0mself\u001b[0m\u001b[0;34m.\u001b[0m\u001b[0mforward\u001b[0m\u001b[0;34m(\u001b[0m\u001b[0;34m*\u001b[0m\u001b[0minput\u001b[0m\u001b[0;34m,\u001b[0m \u001b[0;34m**\u001b[0m\u001b[0mkwargs\u001b[0m\u001b[0;34m)\u001b[0m\u001b[0;34m\u001b[0m\u001b[0m\n\u001b[0m\u001b[1;32m    478\u001b[0m         \u001b[0;32mfor\u001b[0m \u001b[0mhook\u001b[0m \u001b[0;32min\u001b[0m \u001b[0mself\u001b[0m\u001b[0;34m.\u001b[0m\u001b[0m_forward_hooks\u001b[0m\u001b[0;34m.\u001b[0m\u001b[0mvalues\u001b[0m\u001b[0;34m(\u001b[0m\u001b[0;34m)\u001b[0m\u001b[0;34m:\u001b[0m\u001b[0;34m\u001b[0m\u001b[0m\n\u001b[1;32m    479\u001b[0m             \u001b[0mhook_result\u001b[0m \u001b[0;34m=\u001b[0m \u001b[0mhook\u001b[0m\u001b[0;34m(\u001b[0m\u001b[0mself\u001b[0m\u001b[0;34m,\u001b[0m \u001b[0minput\u001b[0m\u001b[0;34m,\u001b[0m \u001b[0mresult\u001b[0m\u001b[0;34m)\u001b[0m\u001b[0;34m\u001b[0m\u001b[0m\n",
      "\u001b[0;32m/net/seasfs02/srv/export/pfister_lab/share_root/haehn/Projects/perception/nets/cornet/cornet_r.py\u001b[0m in \u001b[0;36mforward\u001b[0;34m(self, inp, state, batch_size)\u001b[0m\n\u001b[1;32m     57\u001b[0m         \u001b[0;32mif\u001b[0m \u001b[0mstate\u001b[0m \u001b[0;32mis\u001b[0m \u001b[0;32mNone\u001b[0m\u001b[0;34m:\u001b[0m  \u001b[0;31m# at t=0, state is initialized to 0\u001b[0m\u001b[0;34m\u001b[0m\u001b[0m\n\u001b[1;32m     58\u001b[0m             \u001b[0mstate\u001b[0m \u001b[0;34m=\u001b[0m \u001b[0;36m0\u001b[0m\u001b[0;34m\u001b[0m\u001b[0m\n\u001b[0;32m---> 59\u001b[0;31m         \u001b[0mskip\u001b[0m \u001b[0;34m=\u001b[0m \u001b[0minp\u001b[0m \u001b[0;34m+\u001b[0m \u001b[0mstate\u001b[0m\u001b[0;34m\u001b[0m\u001b[0m\n\u001b[0m\u001b[1;32m     60\u001b[0m \u001b[0;34m\u001b[0m\u001b[0m\n\u001b[1;32m     61\u001b[0m         \u001b[0mx\u001b[0m \u001b[0;34m=\u001b[0m \u001b[0mself\u001b[0m\u001b[0;34m.\u001b[0m\u001b[0mconv1\u001b[0m\u001b[0;34m(\u001b[0m\u001b[0mskip\u001b[0m\u001b[0;34m)\u001b[0m\u001b[0;34m\u001b[0m\u001b[0m\n",
      "\u001b[0;31mRuntimeError\u001b[0m: The size of tensor a (4) must match the size of tensor b (28) at non-singleton dimension 3"
     ]
    }
   ],
   "source": [
    "R.fit(X_train_rgb, y_train);\n",
    "y_pred = R.predict(X_test_rgb)\n",
    "print('Test acc.:', np.mean(y_pred == y_test))"
   ]
  },
  {
   "cell_type": "code",
   "execution_count": null,
   "metadata": {},
   "outputs": [],
   "source": []
  },
  {
   "cell_type": "code",
   "execution_count": null,
   "metadata": {},
   "outputs": [],
   "source": []
  },
  {
   "cell_type": "code",
   "execution_count": 6,
   "metadata": {},
   "outputs": [],
   "source": [
    "S = NeuralNetClassifier(\n",
    "    CS.CORnet_S,\n",
    "    max_epochs=30,\n",
    "    lr=1e-3,\n",
    "    batch_size=128,\n",
    "    criterion=torch.nn.CrossEntropyLoss,\n",
    "    device='cuda'\n",
    ")\n"
   ]
  },
  {
   "cell_type": "code",
   "execution_count": 7,
   "metadata": {},
   "outputs": [
    {
     "name": "stdout",
     "output_type": "stream",
     "text": [
      "  epoch    train_loss    valid_acc    valid_loss       dur\n",
      "-------  ------------  -----------  ------------  --------\n",
      "      1        \u001b[36m1.7792\u001b[0m       \u001b[32m0.9251\u001b[0m        \u001b[35m0.3259\u001b[0m  171.9588\n",
      "      2        \u001b[36m0.2155\u001b[0m       \u001b[32m0.9527\u001b[0m        \u001b[35m0.1741\u001b[0m  171.9808\n",
      "      3        \u001b[36m0.1182\u001b[0m       \u001b[32m0.9613\u001b[0m        \u001b[35m0.1397\u001b[0m  171.9605\n",
      "Test acc.: 0.9594857142857143\n"
     ]
    }
   ],
   "source": [
    "S.fit(X_train_rgb, y_train);\n",
    "y_pred = S.predict(X_test_rgb)\n",
    "print('Test acc.:', np.mean(y_pred == y_test))"
   ]
  },
  {
   "cell_type": "code",
   "execution_count": null,
   "metadata": {},
   "outputs": [],
   "source": []
  }
 ],
 "metadata": {
  "kernelspec": {
   "display_name": "Python 3",
   "language": "python",
   "name": "python3"
  },
  "language_info": {
   "codemirror_mode": {
    "name": "ipython",
    "version": 3
   },
   "file_extension": ".py",
   "mimetype": "text/x-python",
   "name": "python",
   "nbconvert_exporter": "python",
   "pygments_lexer": "ipython3",
   "version": "3.6.6"
  }
 },
 "nbformat": 4,
 "nbformat_minor": 2
}
